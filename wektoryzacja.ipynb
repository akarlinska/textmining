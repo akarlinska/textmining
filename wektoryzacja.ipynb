{
 "cells": [
  {
   "cell_type": "markdown",
   "metadata": {},
   "source": [
    "# Semantyka i wektoryzacja: podstawy\n",
    "\n",
    "**Autorzy:** S. Mandes, A. Karlińska"
   ]
  },
  {
   "cell_type": "markdown",
   "metadata": {},
   "source": [
    "Zanim zaczniemy proszę doinstalować bardziej rozbudowany model języka angielskiego:\n",
    "\n",
    "en_core_web_md\n",
    "\n",
    "python -m spacy download en_core_web_md\n",
    "\n",
    "albo / i \n",
    "\n",
    "python -m spacy download en_core_web_lg\n",
    "\n",
    "https://spacy.io/models/en\n"
   ]
  },
  {
   "cell_type": "markdown",
   "metadata": {},
   "source": [
    "\n",
    "-----\n",
    "Def:\n",
    "\n",
    "Word2vec is a group of related models that are used to produce **word embeddings**. \n",
    "\n",
    "These models are shallow, two-layer neural networks that are trained to reconstruct linguistic contexts of words. \n",
    "\n",
    "Word2vec takes as its input a large corpus of text and produces a vector space, typically of several hundred dimensions, with each unique word in the corpus being assigned a corresponding vector in the space. Word vectors are positioned in the vector space such that words that share common contexts in the corpus are located close to one another in the space.\n",
    "\n",
    "Źródło: https://en.wikipedia.org/wiki/Word2vec\n",
    "\n",
    "Od tego tekstu się zaczęło: Mikolov et al (2013)\n",
    "https://arxiv.org/pdf/1301.3781.pdf\n",
    "\n",
    "\n",
    "Poniżej opieram się na:\n",
    "\n",
    "https://gist.github.com/aparrish/2f562e3737544cf29aaf1af30362f469\n",
    "\n",
    "i wersja zaktualizowana i rozbudowana\n",
    "\n",
    "https://www.kaggle.com/john77eipe/understanding-word-vectors\n",
    "\n",
    "-----\n",
    "\n"
   ]
  },
  {
   "cell_type": "markdown",
   "metadata": {},
   "source": [
    "Zacznijmy od wyjaśnienia idei \"umieszczenia\" słów w przestrzeni (w wymiarach), opisywania ich i określania relacji za pomocą wektorów."
   ]
  },
  {
   "cell_type": "code",
   "execution_count": 27,
   "metadata": {},
   "outputs": [
    {
     "data": {
      "text/html": [
       "<div>\n",
       "<style scoped>\n",
       "    .dataframe tbody tr th:only-of-type {\n",
       "        vertical-align: middle;\n",
       "    }\n",
       "\n",
       "    .dataframe tbody tr th {\n",
       "        vertical-align: top;\n",
       "    }\n",
       "\n",
       "    .dataframe thead th {\n",
       "        text-align: right;\n",
       "    }\n",
       "</style>\n",
       "<table border=\"1\" class=\"dataframe\">\n",
       "  <thead>\n",
       "    <tr style=\"text-align: right;\">\n",
       "      <th></th>\n",
       "      <th>rodzaj</th>\n",
       "      <th>fajność</th>\n",
       "      <th>wielkość</th>\n",
       "    </tr>\n",
       "  </thead>\n",
       "  <tbody>\n",
       "    <tr>\n",
       "      <th>0</th>\n",
       "      <td>kot</td>\n",
       "      <td>95</td>\n",
       "      <td>15</td>\n",
       "    </tr>\n",
       "    <tr>\n",
       "      <th>1</th>\n",
       "      <td>pies</td>\n",
       "      <td>95</td>\n",
       "      <td>25</td>\n",
       "    </tr>\n",
       "    <tr>\n",
       "      <th>2</th>\n",
       "      <td>ryba</td>\n",
       "      <td>10</td>\n",
       "      <td>5</td>\n",
       "    </tr>\n",
       "    <tr>\n",
       "      <th>3</th>\n",
       "      <td>krokodyl</td>\n",
       "      <td>20</td>\n",
       "      <td>30</td>\n",
       "    </tr>\n",
       "    <tr>\n",
       "      <th>4</th>\n",
       "      <td>delfin</td>\n",
       "      <td>80</td>\n",
       "      <td>35</td>\n",
       "    </tr>\n",
       "    <tr>\n",
       "      <th>5</th>\n",
       "      <td>słoń</td>\n",
       "      <td>75</td>\n",
       "      <td>95</td>\n",
       "    </tr>\n",
       "    <tr>\n",
       "      <th>6</th>\n",
       "      <td>panda</td>\n",
       "      <td>95</td>\n",
       "      <td>30</td>\n",
       "    </tr>\n",
       "    <tr>\n",
       "      <th>7</th>\n",
       "      <td>koń</td>\n",
       "      <td>53</td>\n",
       "      <td>50</td>\n",
       "    </tr>\n",
       "    <tr>\n",
       "      <th>8</th>\n",
       "      <td>kurczak</td>\n",
       "      <td>30</td>\n",
       "      <td>5</td>\n",
       "    </tr>\n",
       "    <tr>\n",
       "      <th>9</th>\n",
       "      <td>mucha</td>\n",
       "      <td>5</td>\n",
       "      <td>2</td>\n",
       "    </tr>\n",
       "  </tbody>\n",
       "</table>\n",
       "</div>"
      ],
      "text/plain": [
       "     rodzaj  fajność  wielkość\n",
       "0       kot       95        15\n",
       "1      pies       95        25\n",
       "2      ryba       10         5\n",
       "3  krokodyl       20        30\n",
       "4    delfin       80        35\n",
       "5      słoń       75        95\n",
       "6     panda       95        30\n",
       "7       koń       53        50\n",
       "8   kurczak       30         5\n",
       "9     mucha        5         2"
      ]
     },
     "execution_count": 27,
     "metadata": {},
     "output_type": "execute_result"
    }
   ],
   "source": [
    "import pandas as pd\n",
    "import numpy as np\n",
    "import seaborn as sns\n",
    "# niezbędne jest zainstalowanie seaborn\n",
    "\n",
    "df = pd.DataFrame({\n",
    "'rodzaj': ['kot','pies','ryba','krokodyl','delfin', 'słoń', 'panda', 'koń', 'kurczak', 'mucha'],\n",
    "'fajność': [95, 95, 10, 20, 80, 75, 95, 53, 30, 5],\n",
    "'wielkość': [15, 25, 5, 30, 35, 95, 30, 50, 5, 2]\n",
    "})\n",
    "# df.index = pd.RangeIndex(start=1, stop=11, step=1)\n",
    "df"
   ]
  },
  {
   "cell_type": "code",
   "execution_count": 28,
   "metadata": {},
   "outputs": [
    {
     "data": {
      "image/png": "[encoded data removed]",
      "text/plain": [
       "<Figure size 432x288 with 1 Axes>"
      ]
     },
     "metadata": {
      "needs_background": "light"
     },
     "output_type": "display_data"
    }
   ],
   "source": [
    "p=sns.regplot(data=df, x=\"fajność\", y=\"wielkość\", fit_reg=False, marker=\"o\", color=\"skyblue\", scatter_kws={'s':1000})\n",
    " \n",
    "\n",
    "for line in range(0,df.shape[0]):\n",
    "     p.text(df.fajność[line]+0.2, df.wielkość[line], df.rodzaj[line], horizontalalignment='left', size='medium', color='black', weight='semibold')\n",
    "\n"
   ]
  },
  {
   "cell_type": "markdown",
   "metadata": {},
   "source": [
    "Na wykresie widać, że koniowi najbliżej jest (pod względem fajności/wielkości) do delfina. Ale jaka dokładnie jest ta odległość? I jak daleko jest od konia do krokodyla?\n",
    "\n",
    "Można to zmierzyć za pomocą \"euklidesowej odległości\".\n",
    "\n",
    "https://pl.wikipedia.org/wiki/Przestrzeń_euklidesowa"
   ]
  },
  {
   "cell_type": "code",
   "execution_count": 29,
   "metadata": {},
   "outputs": [],
   "source": [
    "import math\n",
    "def distance2d(x1, y1, x2, y2):\n",
    "    return math.sqrt((x1 - x2)**2 + (y1 - y2)**2)"
   ]
  },
  {
   "cell_type": "markdown",
   "metadata": {},
   "source": [
    "Koń (95.0\t15.0), delfin (80.0\t35.0), krokodyl (20.0\t30.0)"
   ]
  },
  {
   "cell_type": "code",
   "execution_count": 30,
   "metadata": {},
   "outputs": [
    {
     "data": {
      "text/plain": [
       "30.886890422961002"
      ]
     },
     "execution_count": 30,
     "metadata": {},
     "output_type": "execute_result"
    }
   ],
   "source": [
    "distance2d (53, 50, 80, 35) # koń a delfin"
   ]
  },
  {
   "cell_type": "code",
   "execution_count": 31,
   "metadata": {},
   "outputs": [
    {
     "data": {
      "text/plain": [
       "38.58756276314948"
      ]
     },
     "execution_count": 31,
     "metadata": {},
     "output_type": "execute_result"
    }
   ],
   "source": [
    "distance2d (53, 50, 20, 30) # koń a krokodyl"
   ]
  },
  {
   "cell_type": "markdown",
   "metadata": {},
   "source": [
    "**Modelowanie ma kilka interesujących właściwości.**\n",
    "\n",
    "1. Możesz wybrać dowolny punkt w przestrzeni, a następnie znaleźć zwierzę znajdujące się najbliżej tego punktu.\n",
    "\n",
    "2. Możesz również odpowiedzieć na pytanie: co jest w połowie drogi między kurczakiem a słoniem? Wystarczy narysować linię od \"słonia\" do \"kurczaka\", zaznaczyć środek i znaleźć najbliższe zwierzę.\n",
    "\n",
    "3. Możesz też zapytać: czy można znaleźć różnicę analogiczną do różnicy między muchą a kotem? \n",
    " Mucha od kota różni się o 90 jednostek fajności i 13 jednostek wielkości. Pytanie: jakie dwa inne zwierzęta różnią się od siebie w taki sam lub podobny sposób? "
   ]
  },
  {
   "cell_type": "markdown",
   "metadata": {},
   "source": [
    "Sekwencja liczb używana do identyfikacji punktu nazywana jest **wektorem**, a rodzaj matematyki, którą dotychczas stosowaliśmy, nazywany jest **algebrą liniową**. \n",
    "\n",
    "Zbiór wektorów, które są częścią tego samego zbioru danych, jest nazywany **przestrzenią wektorową**.\n",
    "\n",
    "W powyższym przykładzie mamy tylko dwa wymiary i nie ma on nic wspólnego z językiem (ani fajnością zwierząt). W rzeczywistej analizie wymiarów jest więcej. Najczęściej 100 albo 300.\n",
    "\n",
    "Jest jednak jeden przykład 3-wymiarowy, na którym możemy prowadzić realistyczną analizę."
   ]
  },
  {
   "cell_type": "markdown",
   "metadata": {},
   "source": [
    "## Wektory kolorów\n",
    "\n",
    "https://pl.wikipedia.org/wiki/RGB"
   ]
  },
  {
   "cell_type": "code",
   "execution_count": 7,
   "metadata": {},
   "outputs": [
    {
     "data": {
      "text/html": [
       "<iframe src=https://upload.wikimedia.org/wikipedia/commons/0/0a/12-bit_RGB_Cube.gif width=500 height=300></iframe>"
      ],
      "text/plain": [
       "<IPython.core.display.HTML object>"
      ]
     },
     "execution_count": 7,
     "metadata": {},
     "output_type": "execute_result"
    }
   ],
   "source": [
    "import IPython\n",
    "url = \"https://upload.wikimedia.org/wikipedia/commons/0/0a/12-bit_RGB_Cube.gif\"\n",
    "iframe = '<iframe src=' + url + ' width=500 height=300></iframe>'\n",
    "IPython.display.HTML(iframe)"
   ]
  },
  {
   "cell_type": "code",
   "execution_count": 2,
   "metadata": {},
   "outputs": [],
   "source": [
    "import json"
   ]
  },
  {
   "cell_type": "code",
   "execution_count": 3,
   "metadata": {},
   "outputs": [],
   "source": [
    "f = open(r'C:\\py\\textmining\\zajęcia 6\\dane\\colors.json') \n",
    "colors = json.load(f) \n",
    "f.close() "
   ]
  },
  {
   "cell_type": "markdown",
   "metadata": {},
   "source": [
    "Jakie mamy kolory?"
   ]
  },
  {
   "cell_type": "code",
   "execution_count": 4,
   "metadata": {},
   "outputs": [
    {
     "data": {
      "text/plain": [
       "[110, 117, 14]"
      ]
     },
     "execution_count": 4,
     "metadata": {},
     "output_type": "execute_result"
    }
   ],
   "source": [
    "colors['olive']"
   ]
  },
  {
   "cell_type": "code",
   "execution_count": 20,
   "metadata": {},
   "outputs": [
    {
     "data": {
      "text/plain": [
       "[229, 0, 0]"
      ]
     },
     "execution_count": 20,
     "metadata": {},
     "output_type": "execute_result"
    }
   ],
   "source": [
    "colors['red']"
   ]
  },
  {
   "cell_type": "code",
   "execution_count": 21,
   "metadata": {},
   "outputs": [
    {
     "data": {
      "text/plain": [
       "[165, 163, 145]"
      ]
     },
     "execution_count": 21,
     "metadata": {},
     "output_type": "execute_result"
    }
   ],
   "source": [
    "colors['cement']"
   ]
  },
  {
   "cell_type": "code",
   "execution_count": 42,
   "metadata": {},
   "outputs": [],
   "source": [
    "def get_key(val): \n",
    "    for key, value in colors.items(): \n",
    "         if val == value: \n",
    "             return key \n",
    "    return \"nie ma takiego klucza\""
   ]
  },
  {
   "cell_type": "code",
   "execution_count": 43,
   "metadata": {},
   "outputs": [
    {
     "data": {
      "text/plain": [
       "'cement'"
      ]
     },
     "execution_count": 43,
     "metadata": {},
     "output_type": "execute_result"
    }
   ],
   "source": [
    "get_key([165, 163, 145])"
   ]
  },
  {
   "cell_type": "code",
   "execution_count": 41,
   "metadata": {},
   "outputs": [
    {
     "data": {
      "text/plain": [
       "949"
      ]
     },
     "execution_count": 41,
     "metadata": {},
     "output_type": "execute_result"
    }
   ],
   "source": [
    "len(colors)"
   ]
  },
  {
   "cell_type": "markdown",
   "metadata": {},
   "source": [
    "### Funkcje do liczenia relacji między wektorami\n",
    "\n"
   ]
  },
  {
   "cell_type": "code",
   "execution_count": 12,
   "metadata": {},
   "outputs": [
    {
     "data": {
      "text/plain": [
       "5.0990195135927845"
      ]
     },
     "execution_count": 12,
     "metadata": {},
     "output_type": "execute_result"
    }
   ],
   "source": [
    "import math\n",
    "def distance(coord1, coord2):\n",
    "    return math.sqrt(sum([(i - j)**2 for i, j in zip(coord1, coord2)]))\n",
    "\n",
    "distance([10, 1], [5, 2])"
   ]
  },
  {
   "cell_type": "code",
   "execution_count": 6,
   "metadata": {},
   "outputs": [
    {
     "data": {
      "text/plain": [
       "5.196152422706632"
      ]
     },
     "execution_count": 6,
     "metadata": {},
     "output_type": "execute_result"
    }
   ],
   "source": [
    "distance([10, 1, 4], [5, 2, 5])"
   ]
  },
  {
   "cell_type": "code",
   "execution_count": 13,
   "metadata": {},
   "outputs": [
    {
     "data": {
      "text/plain": [
       "[5, -1]"
      ]
     },
     "execution_count": 13,
     "metadata": {},
     "output_type": "execute_result"
    }
   ],
   "source": [
    "def subtractv(coord1, coord2):\n",
    "    return [c1 - c2 for c1, c2 in zip(coord1, coord2)]\n",
    "\n",
    "subtractv([10, 1], [5, 2])"
   ]
  },
  {
   "cell_type": "code",
   "execution_count": 14,
   "metadata": {},
   "outputs": [
    {
     "data": {
      "text/plain": [
       "[15, 3]"
      ]
     },
     "execution_count": 14,
     "metadata": {},
     "output_type": "execute_result"
    }
   ],
   "source": [
    "def addv(coord1, coord2):\n",
    "    return [c1 + c2 for c1, c2 in zip(coord1, coord2)]\n",
    "\n",
    "addv([10, 1], [5, 2])"
   ]
  },
  {
   "cell_type": "code",
   "execution_count": 15,
   "metadata": {},
   "outputs": [
    {
     "data": {
      "text/plain": [
       "[2.0, 2.0]"
      ]
     },
     "execution_count": 15,
     "metadata": {},
     "output_type": "execute_result"
    }
   ],
   "source": [
    "def meanv(coords):\n",
    "    sumv = [0] * len(coords[0])\n",
    "    for item in coords:\n",
    "        for i in range(len(item)):\n",
    "            sumv[i] += item[i]\n",
    "    mean = [0] * len(sumv)\n",
    "    for i in range(len(sumv)):\n",
    "        mean[i] = float(sumv[i]) / len(coords)\n",
    "    return mean\n",
    "\n",
    "meanv([[0, 1, 5], [2, 2, 6], [4, 3, 6]])"
   ]
  },
  {
   "cell_type": "code",
   "execution_count": 10,
   "metadata": {},
   "outputs": [
    {
     "data": {
      "text/plain": [
       "True"
      ]
     },
     "execution_count": 10,
     "metadata": {},
     "output_type": "execute_result"
    }
   ],
   "source": [
    "distance(colors['red'], colors['green']) > distance(colors['red'], colors['pink'])"
   ]
  },
  {
   "cell_type": "markdown",
   "metadata": {},
   "source": [
    "### Poszukiwanie najbliższego nazwanego koloru\n",
    "\n",
    "Tak jak chcieliśmy znaleźć zwierzę, które najbardziej pasuje do dowolnego punktu w przestrzeni fajność/wielkość, będziemy chcieli znaleźć nazwę koloru najbliższą do dowolnego punktu w przestrzeni RGB. \n",
    "\n",
    "Najłatwiejszym sposobem na wskazanie elementu najbliższego do dowolnego wektora jest po prostu znalezienie odległości między wektorem docelowym a każdym elementem w przestrzeni, a następnie posortowanie listy od najbliższego do najdalszego. Służy do tego funkcja `closest()`, która domyślnie zwraca listę dziesięciu elementów najbliższych do danego wektora.\n"
   ]
  },
  {
   "cell_type": "code",
   "execution_count": 8,
   "metadata": {},
   "outputs": [],
   "source": [
    "def closest(space, coord, n=10):\n",
    "    closest = []\n",
    "    for key in sorted(space.keys(),\n",
    "                        key=lambda x: distance(coord, space[x]))[:n]:\n",
    "        closest.append(key)\n",
    "    return closest"
   ]
  },
  {
   "cell_type": "code",
   "execution_count": 12,
   "metadata": {},
   "outputs": [
    {
     "data": {
      "text/plain": [
       "['perrywinkle',\n",
       " 'lavender blue',\n",
       " 'periwinkle blue',\n",
       " 'periwinkle',\n",
       " 'soft blue',\n",
       " 'pale purple',\n",
       " 'cornflower',\n",
       " 'wisteria',\n",
       " 'light urple',\n",
       " 'carolina blue']"
      ]
     },
     "execution_count": 12,
     "metadata": {},
     "output_type": "execute_result"
    }
   ],
   "source": [
    "closest(colors, colors['perrywinkle'])"
   ]
  },
  {
   "cell_type": "code",
   "execution_count": 13,
   "metadata": {},
   "outputs": [
    {
     "data": {
      "text/plain": [
       "['barney purple',\n",
       " 'purple',\n",
       " 'warm purple',\n",
       " 'barney',\n",
       " 'darkish purple',\n",
       " 'red violet',\n",
       " 'medium purple',\n",
       " 'ugly purple',\n",
       " 'purply',\n",
       " 'magenta']"
      ]
     },
     "execution_count": 13,
     "metadata": {},
     "output_type": "execute_result"
    }
   ],
   "source": [
    "closest(colors, [148, 15, 150])"
   ]
  },
  {
   "cell_type": "markdown",
   "metadata": {},
   "source": [
    "### Mieszanie kolorów "
   ]
  },
  {
   "cell_type": "markdown",
   "metadata": {},
   "source": [
    "![kolory](https://www.faspaints.com/uploads/4/7/2/6/47269167/9487363_orig.jpg)"
   ]
  },
  {
   "cell_type": "code",
   "execution_count": 69,
   "metadata": {},
   "outputs": [
    {
     "data": {
      "text/plain": [
       "[478, 115, 6]"
      ]
     },
     "execution_count": 69,
     "metadata": {},
     "output_type": "execute_result"
    }
   ],
   "source": [
    "a = addv(colors['red'], colors['orange'])\n",
    "a"
   ]
  },
  {
   "cell_type": "code",
   "execution_count": 70,
   "metadata": {},
   "outputs": [
    {
     "data": {
      "text/plain": [
       "'nie ma takiego klucza'"
      ]
     },
     "execution_count": 70,
     "metadata": {},
     "output_type": "execute_result"
    }
   ],
   "source": [
    "get_key(a)"
   ]
  },
  {
   "cell_type": "code",
   "execution_count": 71,
   "metadata": {},
   "outputs": [
    {
     "data": {
      "text/plain": [
       "['bright orange',\n",
       " 'tangerine',\n",
       " 'pumpkin orange',\n",
       " 'blood orange',\n",
       " 'orange',\n",
       " 'orangered',\n",
       " 'yellowish orange',\n",
       " 'orange yellow',\n",
       " 'red orange',\n",
       " 'mango']"
      ]
     },
     "execution_count": 71,
     "metadata": {},
     "output_type": "execute_result"
    }
   ],
   "source": [
    "closest(colors, a)"
   ]
  },
  {
   "cell_type": "code",
   "execution_count": 74,
   "metadata": {},
   "outputs": [
    {
     "data": {
      "text/plain": [
       "[255, 148, 8]"
      ]
     },
     "execution_count": 74,
     "metadata": {},
     "output_type": "execute_result"
    }
   ],
   "source": [
    "colors['tangerine']"
   ]
  },
  {
   "cell_type": "code",
   "execution_count": 63,
   "metadata": {},
   "outputs": [
    {
     "data": {
      "text/plain": [
       "['cobalt blue',\n",
       " 'royal blue',\n",
       " 'darkish blue',\n",
       " 'true blue',\n",
       " 'royal',\n",
       " 'prussian blue',\n",
       " 'dark royal blue',\n",
       " 'deep blue',\n",
       " 'marine blue',\n",
       " 'deep sea blue']"
      ]
     },
     "execution_count": 63,
     "metadata": {},
     "output_type": "execute_result"
    }
   ],
   "source": [
    "# Odejmowanie kolorów\n",
    "closest(colors, subtractv(colors['purple'], colors['red']))"
   ]
  },
  {
   "cell_type": "code",
   "execution_count": 78,
   "metadata": {},
   "outputs": [
    {
     "data": {
      "text/plain": [
       "['medium grey',\n",
       " 'purple grey',\n",
       " 'steel grey',\n",
       " 'battleship grey',\n",
       " 'grey purple',\n",
       " 'purplish grey',\n",
       " 'greyish purple',\n",
       " 'steel',\n",
       " 'warm grey',\n",
       " 'green grey']"
      ]
     },
     "execution_count": 78,
     "metadata": {},
     "output_type": "execute_result"
    }
   ],
   "source": [
    "# średnia z białego i czarnego\n",
    "closest(colors, meanv([colors['black'], colors['white']]))"
   ]
  },
  {
   "cell_type": "markdown",
   "metadata": {},
   "source": [
    "### Kolor powieści\n",
    "\n"
   ]
  },
  {
   "cell_type": "code",
   "execution_count": 79,
   "metadata": {},
   "outputs": [],
   "source": [
    "import spacy\n",
    "nlp = spacy.load('en_core_web_sm')"
   ]
  },
  {
   "cell_type": "code",
   "execution_count": 38,
   "metadata": {},
   "outputs": [],
   "source": [
    "# Bram Stoker \"Dracula\"\n",
    "with open (r'C:\\py\\textmining\\zajęcia 6\\dane\\pg345.txt') as f:\n",
    "    doc = nlp(f.read())\n"
   ]
  },
  {
   "cell_type": "code",
   "execution_count": null,
   "metadata": {},
   "outputs": [],
   "source": [
    "drac_colors = [colors[word.lower_] for word in doc if word.lower_ in colors]\n",
    "avg_color = meanv(drac_colors)\n",
    "print (avg_color)"
   ]
  },
  {
   "cell_type": "code",
   "execution_count": 81,
   "metadata": {},
   "outputs": [
    {
     "data": {
      "text/plain": [
       "['reddish grey',\n",
       " 'brownish grey',\n",
       " 'brownish',\n",
       " 'brown grey',\n",
       " 'mocha',\n",
       " 'grey brown',\n",
       " 'puce',\n",
       " 'dull brown',\n",
       " 'pinkish brown',\n",
       " 'dark taupe']"
      ]
     },
     "execution_count": 81,
     "metadata": {},
     "output_type": "execute_result"
    }
   ],
   "source": [
    "closest(colors, avg_color)"
   ]
  },
  {
   "cell_type": "markdown",
   "metadata": {},
   "source": [
    "#### Kolory u Prusa"
   ]
  },
  {
   "cell_type": "code",
   "execution_count": 3,
   "metadata": {},
   "outputs": [],
   "source": [
    "import spacy\n",
    "nlp = spacy.load('pl_spacy_model')\n",
    "# nlp.max_length = 1700000"
   ]
  },
  {
   "cell_type": "code",
   "execution_count": 1,
   "metadata": {},
   "outputs": [],
   "source": [
    "import json  \n",
    "\n",
    "f = open(r'C:\\py\\textmining\\zajęcia 6\\dane\\kolory_pl.json') \n",
    "kolory = json.load(f) \n",
    "f.close() "
   ]
  },
  {
   "cell_type": "code",
   "execution_count": 4,
   "metadata": {},
   "outputs": [],
   "source": [
    "with open (r\"C:\\py\\textmining\\zajęcia 6\\dane\\lalka_t1.txt\", encoding='utf-8') as file:\n",
    "    lalka_r = file.read()\n",
    "doc = nlp(lalka_r)"
   ]
  },
  {
   "cell_type": "code",
   "execution_count": 7,
   "metadata": {},
   "outputs": [
    {
     "name": "stdout",
     "output_type": "stream",
     "text": [
      "[157.64900662251657, 133.83112582781456, 99.02649006622516]\n"
     ]
    }
   ],
   "source": [
    "lalka_kolory = [kolory[word.lemma_] for word in doc if word.lemma_ in kolory]\n",
    "avg_color = meanv(lalka_kolory)\n",
    "print (avg_color)"
   ]
  },
  {
   "cell_type": "code",
   "execution_count": 14,
   "metadata": {},
   "outputs": [
    {
     "data": {
      "text/plain": [
       "['orzechowy',\n",
       " 'szary',\n",
       " 'stalowy',\n",
       " 'sepia',\n",
       " 'eozyna',\n",
       " 'miedziany',\n",
       " 'beżowy',\n",
       " 'kakaowy',\n",
       " 'spiżowy',\n",
       " 'khaki']"
      ]
     },
     "execution_count": 14,
     "metadata": {},
     "output_type": "execute_result"
    }
   ],
   "source": [
    "closest(kolory, avg_color)"
   ]
  },
  {
   "cell_type": "code",
   "execution_count": 15,
   "metadata": {
    "scrolled": true
   },
   "outputs": [
    {
     "data": {
      "text/plain": [
       "302"
      ]
     },
     "execution_count": 15,
     "metadata": {},
     "output_type": "execute_result"
    }
   ],
   "source": [
    "len(lalka_kolory)"
   ]
  },
  {
   "cell_type": "code",
   "execution_count": 16,
   "metadata": {
    "scrolled": true
   },
   "outputs": [
    {
     "data": {
      "text/plain": [
       "[[222, 213, 208],\n",
       " [0, 128, 0],\n",
       " [0, 0, 0],\n",
       " [0, 128, 0],\n",
       " [0, 0, 0],\n",
       " [0, 0, 0],\n",
       " [122, 125, 128],\n",
       " [8, 37, 103],\n",
       " [255, 215, 0],\n",
       " [0, 0, 128],\n",
       " [255, 255, 255],\n",
       " [250, 247, 229],\n",
       " [134, 100, 35],\n",
       " [219, 227, 222],\n",
       " [0, 0, 0],\n",
       " [128, 128, 128],\n",
       " [0, 128, 0],\n",
       " [0, 0, 0],\n",
       " [192, 192, 192],\n",
       " [150, 75, 0],\n",
       " [222, 213, 208],\n",
       " [0, 0, 255],\n",
       " [255, 255, 255],\n",
       " [205, 87, 0],\n",
       " [128, 128, 128],\n",
       " [255, 255, 0],\n",
       " [128, 128, 128],\n",
       " [255, 255, 255],\n",
       " [0, 0, 255],\n",
       " [255, 255, 0],\n",
       " [255, 255, 255],\n",
       " [0, 0, 255],\n",
       " [128, 128, 128],\n",
       " [8, 37, 103],\n",
       " [255, 56, 0],\n",
       " [255, 215, 0],\n",
       " [0, 128, 0],\n",
       " [128, 128, 128],\n",
       " [207, 41, 41],\n",
       " [255, 255, 255],\n",
       " [222, 213, 208],\n",
       " [219, 227, 222],\n",
       " [250, 250, 231],\n",
       " [83, 47, 40],\n",
       " [0, 128, 128],\n",
       " [255, 215, 0],\n",
       " [8, 37, 103],\n",
       " [0, 0, 0],\n",
       " [255, 255, 255],\n",
       " [205, 127, 50],\n",
       " [242, 59, 28],\n",
       " [255, 255, 255],\n",
       " [219, 227, 222],\n",
       " [128, 128, 128],\n",
       " [0, 0, 0],\n",
       " [128, 128, 128],\n",
       " [128, 128, 128],\n",
       " [192, 192, 192],\n",
       " [0, 0, 0],\n",
       " [128, 128, 128],\n",
       " [0, 0, 255],\n",
       " [128, 128, 128],\n",
       " [255, 255, 255],\n",
       " [128, 128, 128],\n",
       " [128, 128, 128],\n",
       " [0, 0, 0],\n",
       " [219, 227, 222],\n",
       " [0, 0, 0],\n",
       " [128, 128, 128],\n",
       " [222, 213, 208],\n",
       " [255, 0, 0],\n",
       " [255, 255, 255],\n",
       " [255, 0, 0],\n",
       " [255, 0, 0],\n",
       " [192, 192, 192],\n",
       " [0, 128, 0],\n",
       " [0, 0, 0],\n",
       " [255, 255, 255],\n",
       " [0, 0, 0],\n",
       " [255, 255, 255],\n",
       " [255, 0, 0],\n",
       " [122, 125, 128],\n",
       " [122, 125, 128],\n",
       " [128, 128, 128],\n",
       " [0, 128, 0],\n",
       " [255, 255, 255],\n",
       " [150, 75, 0],\n",
       " [128, 128, 0],\n",
       " [255, 127, 80],\n",
       " [139, 71, 38],\n",
       " [253, 228, 86],\n",
       " [242, 59, 28],\n",
       " [255, 255, 255],\n",
       " [0, 0, 0],\n",
       " [255, 255, 255],\n",
       " [255, 255, 0],\n",
       " [0, 0, 0],\n",
       " [255, 255, 0],\n",
       " [255, 0, 0],\n",
       " [0, 0, 0],\n",
       " [0, 0, 0],\n",
       " [238, 130, 238],\n",
       " [0, 0, 0],\n",
       " [255, 255, 255],\n",
       " [255, 255, 0],\n",
       " [255, 215, 0],\n",
       " [122, 125, 128],\n",
       " [102, 0, 51],\n",
       " [255, 255, 0],\n",
       " [255, 215, 0],\n",
       " [0, 128, 128],\n",
       " [192, 192, 192],\n",
       " [0, 0, 0],\n",
       " [255, 255, 255],\n",
       " [192, 192, 192],\n",
       " [192, 192, 192],\n",
       " [255, 215, 0],\n",
       " [222, 213, 208],\n",
       " [255, 0, 0],\n",
       " [0, 0, 0],\n",
       " [255, 215, 0],\n",
       " [255, 215, 0],\n",
       " [255, 0, 0],\n",
       " [222, 213, 208],\n",
       " [222, 213, 208],\n",
       " [222, 213, 208],\n",
       " [0, 128, 0],\n",
       " [255, 0, 0],\n",
       " [255, 255, 0],\n",
       " [255, 215, 0],\n",
       " [222, 213, 208],\n",
       " [205, 87, 0],\n",
       " [255, 255, 255],\n",
       " [0, 0, 0],\n",
       " [255, 255, 255],\n",
       " [255, 255, 255],\n",
       " [255, 255, 255],\n",
       " [122, 125, 128],\n",
       " [255, 255, 0],\n",
       " [255, 255, 255],\n",
       " [255, 255, 255],\n",
       " [255, 255, 255],\n",
       " [0, 0, 128],\n",
       " [255, 255, 255],\n",
       " [222, 213, 208],\n",
       " [255, 255, 255],\n",
       " [0, 0, 0],\n",
       " [255, 0, 0],\n",
       " [255, 255, 255],\n",
       " [255, 255, 255],\n",
       " [0, 0, 128],\n",
       " [255, 215, 0],\n",
       " [255, 215, 0],\n",
       " [255, 255, 0],\n",
       " [230, 28, 102],\n",
       " [255, 255, 0],\n",
       " [255, 215, 0],\n",
       " [255, 215, 0],\n",
       " [0, 128, 0],\n",
       " [0, 0, 0],\n",
       " [128, 128, 128],\n",
       " [205, 87, 0],\n",
       " [128, 128, 0],\n",
       " [0, 0, 0],\n",
       " [255, 0, 0],\n",
       " [255, 0, 0],\n",
       " [128, 128, 128],\n",
       " [128, 128, 128],\n",
       " [255, 255, 0],\n",
       " [0, 0, 0],\n",
       " [128, 128, 128],\n",
       " [128, 128, 128],\n",
       " [128, 128, 128],\n",
       " [0, 0, 255],\n",
       " [0, 0, 128],\n",
       " [255, 0, 0],\n",
       " [250, 247, 229],\n",
       " [0, 128, 128],\n",
       " [255, 215, 0],\n",
       " [0, 128, 0],\n",
       " [255, 255, 255],\n",
       " [0, 0, 255],\n",
       " [255, 255, 0],\n",
       " [255, 255, 0],\n",
       " [255, 255, 0],\n",
       " [255, 255, 0],\n",
       " [255, 255, 0],\n",
       " [230, 28, 102],\n",
       " [255, 255, 0],\n",
       " [0, 128, 0],\n",
       " [0, 0, 255],\n",
       " [128, 128, 128],\n",
       " [0, 0, 0],\n",
       " [222, 213, 208],\n",
       " [230, 28, 102],\n",
       " [150, 75, 0],\n",
       " [150, 75, 0],\n",
       " [150, 75, 0],\n",
       " [150, 75, 0],\n",
       " [233, 107, 57],\n",
       " [0, 0, 0],\n",
       " [222, 213, 208],\n",
       " [255, 255, 255],\n",
       " [0, 0, 128],\n",
       " [255, 255, 255],\n",
       " [0, 0, 128],\n",
       " [255, 255, 0],\n",
       " [0, 0, 255],\n",
       " [102, 0, 51],\n",
       " [255, 255, 0],\n",
       " [0, 0, 255],\n",
       " [255, 255, 0],\n",
       " [255, 56, 0],\n",
       " [255, 56, 0],\n",
       " [255, 56, 0],\n",
       " [0, 128, 0],\n",
       " [0, 128, 0],\n",
       " [150, 75, 0],\n",
       " [255, 255, 255],\n",
       " [0, 0, 0],\n",
       " [205, 87, 0],\n",
       " [0, 0, 0],\n",
       " [255, 0, 0],\n",
       " [255, 0, 0],\n",
       " [0, 128, 0],\n",
       " [0, 128, 0],\n",
       " [255, 215, 0],\n",
       " [0, 0, 0],\n",
       " [0, 0, 128],\n",
       " [255, 0, 0],\n",
       " [255, 215, 0],\n",
       " [255, 253, 208],\n",
       " [222, 213, 208],\n",
       " [255, 255, 255],\n",
       " [255, 253, 208],\n",
       " [255, 56, 0],\n",
       " [255, 253, 208],\n",
       " [0, 128, 128],\n",
       " [226, 225, 163],\n",
       " [222, 213, 208],\n",
       " [150, 75, 0],\n",
       " [150, 75, 0],\n",
       " [0, 128, 0],\n",
       " [219, 227, 222],\n",
       " [0, 127, 255],\n",
       " [255, 255, 255],\n",
       " [0, 128, 0],\n",
       " [0, 0, 0],\n",
       " [255, 255, 255],\n",
       " [255, 255, 255],\n",
       " [219, 227, 222],\n",
       " [255, 255, 255],\n",
       " [255, 255, 255],\n",
       " [255, 255, 255],\n",
       " [0, 128, 0],\n",
       " [222, 213, 208],\n",
       " [255, 215, 0],\n",
       " [255, 215, 0],\n",
       " [255, 215, 0],\n",
       " [255, 255, 255],\n",
       " [255, 255, 0],\n",
       " [0, 128, 0],\n",
       " [0, 0, 0],\n",
       " [255, 0, 0],\n",
       " [0, 0, 0],\n",
       " [227, 175, 52],\n",
       " [255, 255, 0],\n",
       " [255, 255, 0],\n",
       " [222, 213, 208],\n",
       " [255, 0, 0],\n",
       " [192, 192, 192],\n",
       " [227, 175, 52],\n",
       " [0, 0, 0],\n",
       " [222, 213, 208],\n",
       " [128, 128, 128],\n",
       " [0, 128, 0],\n",
       " [8, 37, 103],\n",
       " [192, 192, 192],\n",
       " [238, 130, 238],\n",
       " [0, 0, 0],\n",
       " [0, 0, 128],\n",
       " [222, 213, 208],\n",
       " [222, 213, 208],\n",
       " [184, 3, 255],\n",
       " [255, 215, 0],\n",
       " [184, 3, 255],\n",
       " [0, 0, 255],\n",
       " [128, 128, 128],\n",
       " [0, 128, 0],\n",
       " [0, 0, 0],\n",
       " [255, 215, 0],\n",
       " [138, 164, 183],\n",
       " [138, 164, 183],\n",
       " [255, 0, 0],\n",
       " [255, 0, 0],\n",
       " [0, 0, 0],\n",
       " [0, 0, 0],\n",
       " [222, 213, 208],\n",
       " [250, 255, 250],\n",
       " [250, 255, 250],\n",
       " [102, 0, 51],\n",
       " [219, 227, 222]]"
      ]
     },
     "execution_count": 16,
     "metadata": {},
     "output_type": "execute_result"
    }
   ],
   "source": [
    "lalka_kolory"
   ]
  },
  {
   "cell_type": "code",
   "execution_count": 55,
   "metadata": {},
   "outputs": [],
   "source": [
    "kol = []\n",
    "for word in doc:\n",
    "    if word.lemma_ in kolory:\n",
    "        kol.append(word.lemma_)"
   ]
  },
  {
   "cell_type": "code",
   "execution_count": 56,
   "metadata": {
    "scrolled": true
   },
   "outputs": [
    {
     "data": {
      "text/plain": [
       "['siwy',\n",
       " 'zielony',\n",
       " 'czarny',\n",
       " 'zielony',\n",
       " 'czarny',\n",
       " 'czarny',\n",
       " 'stalowy',\n",
       " 'szafirowy',\n",
       " 'złoty',\n",
       " 'granatowy',\n",
       " 'biały',\n",
       " 'porcelanowy',\n",
       " 'tabaczkowy',\n",
       " 'popielaty',\n",
       " 'czarny',\n",
       " 'szary',\n",
       " 'zielony',\n",
       " 'czarny',\n",
       " 'srebrny',\n",
       " 'brązowy',\n",
       " 'siwy',\n",
       " 'niebieski',\n",
       " 'biały',\n",
       " 'rudy',\n",
       " 'szary',\n",
       " 'żółty',\n",
       " 'szary',\n",
       " 'biały',\n",
       " 'niebieski',\n",
       " 'żółty',\n",
       " 'biały',\n",
       " 'niebieski',\n",
       " 'szary',\n",
       " 'szafirowy',\n",
       " 'pąsowy',\n",
       " 'złoty',\n",
       " 'zielony',\n",
       " 'szary',\n",
       " 'krwisty',\n",
       " 'biały',\n",
       " 'siwy',\n",
       " 'popielaty',\n",
       " 'perłowy',\n",
       " 'palisander',\n",
       " 'morski',\n",
       " 'złoty',\n",
       " 'szafirowy',\n",
       " 'czarny',\n",
       " 'biały',\n",
       " 'spiżowy',\n",
       " 'pomarańczowy',\n",
       " 'biały',\n",
       " 'popielaty',\n",
       " 'szary',\n",
       " 'czarny',\n",
       " 'szary',\n",
       " 'szary',\n",
       " 'srebrny',\n",
       " 'czarny',\n",
       " 'szary',\n",
       " 'niebieski',\n",
       " 'szary',\n",
       " 'biały',\n",
       " 'szary',\n",
       " 'szary',\n",
       " 'czarny',\n",
       " 'popielaty',\n",
       " 'czarny',\n",
       " 'szary',\n",
       " 'siwy',\n",
       " 'czerwony',\n",
       " 'biały',\n",
       " 'czerwony',\n",
       " 'czerwony',\n",
       " 'srebrny',\n",
       " 'zielony',\n",
       " 'czarny',\n",
       " 'biały',\n",
       " 'czarny',\n",
       " 'biały',\n",
       " 'czerwony',\n",
       " 'stalowy',\n",
       " 'stalowy',\n",
       " 'szary',\n",
       " 'zielony',\n",
       " 'biały',\n",
       " 'brązowy',\n",
       " 'oliwkowy',\n",
       " 'koralowy',\n",
       " 'czekoladowy',\n",
       " 'jasnożółty',\n",
       " 'pomarańczowy',\n",
       " 'biały',\n",
       " 'czarny',\n",
       " 'biały',\n",
       " 'żółty',\n",
       " 'czarny',\n",
       " 'żółty',\n",
       " 'czerwony',\n",
       " 'czarny',\n",
       " 'czarny',\n",
       " 'fiołkowy',\n",
       " 'czarny',\n",
       " 'biały',\n",
       " 'żółty',\n",
       " 'złoty',\n",
       " 'stalowy',\n",
       " 'winny',\n",
       " 'żółty',\n",
       " 'złoty',\n",
       " 'morski',\n",
       " 'srebrny',\n",
       " 'czarny',\n",
       " 'biały',\n",
       " 'srebrny',\n",
       " 'srebrny',\n",
       " 'złoty',\n",
       " 'siwy',\n",
       " 'czerwony',\n",
       " 'czarny',\n",
       " 'złoty',\n",
       " 'złoty',\n",
       " 'czerwony',\n",
       " 'siwy',\n",
       " 'siwy',\n",
       " 'siwy',\n",
       " 'zielony',\n",
       " 'czerwony',\n",
       " 'żółty',\n",
       " 'złoty',\n",
       " 'siwy',\n",
       " 'rudy',\n",
       " 'biały',\n",
       " 'czarny',\n",
       " 'biały',\n",
       " 'biały',\n",
       " 'biały',\n",
       " 'stalowy',\n",
       " 'żółty',\n",
       " 'biały',\n",
       " 'biały',\n",
       " 'biały',\n",
       " 'granatowy',\n",
       " 'biały',\n",
       " 'siwy',\n",
       " 'biały',\n",
       " 'czarny',\n",
       " 'czerwony',\n",
       " 'biały',\n",
       " 'biały',\n",
       " 'granatowy',\n",
       " 'złoty',\n",
       " 'złoty',\n",
       " 'żółty',\n",
       " 'amarantowy',\n",
       " 'żółty',\n",
       " 'złoty',\n",
       " 'złoty',\n",
       " 'zielony',\n",
       " 'czarny',\n",
       " 'szary',\n",
       " 'rudy',\n",
       " 'oliwkowy',\n",
       " 'czarny',\n",
       " 'czerwony',\n",
       " 'czerwony',\n",
       " 'szary',\n",
       " 'szary',\n",
       " 'żółty',\n",
       " 'czarny',\n",
       " 'szary',\n",
       " 'szary',\n",
       " 'szary',\n",
       " 'niebieski',\n",
       " 'granatowy',\n",
       " 'czerwony',\n",
       " 'porcelanowy',\n",
       " 'morski',\n",
       " 'złoty',\n",
       " 'zielony',\n",
       " 'biały',\n",
       " 'niebieski',\n",
       " 'żółty',\n",
       " 'żółty',\n",
       " 'żółty',\n",
       " 'żółty',\n",
       " 'żółty',\n",
       " 'amarantowy',\n",
       " 'żółty',\n",
       " 'zielony',\n",
       " 'niebieski',\n",
       " 'szary',\n",
       " 'czarny',\n",
       " 'siwy',\n",
       " 'amarantowy',\n",
       " 'brązowy',\n",
       " 'brązowy',\n",
       " 'brązowy',\n",
       " 'brązowy',\n",
       " 'ceglasty',\n",
       " 'czarny',\n",
       " 'siwy',\n",
       " 'biały',\n",
       " 'granatowy',\n",
       " 'biały',\n",
       " 'granatowy',\n",
       " 'żółty',\n",
       " 'niebieski',\n",
       " 'winny',\n",
       " 'żółty',\n",
       " 'niebieski',\n",
       " 'żółty',\n",
       " 'pąsowy',\n",
       " 'pąsowy',\n",
       " 'pąsowy',\n",
       " 'zielony',\n",
       " 'zielony',\n",
       " 'brązowy',\n",
       " 'biały',\n",
       " 'czarny',\n",
       " 'rudy',\n",
       " 'czarny',\n",
       " 'czerwony',\n",
       " 'czerwony',\n",
       " 'zielony',\n",
       " 'zielony',\n",
       " 'złoty',\n",
       " 'czarny',\n",
       " 'granatowy',\n",
       " 'czerwony',\n",
       " 'złoty',\n",
       " 'kremowy',\n",
       " 'siwy',\n",
       " 'biały',\n",
       " 'kremowy',\n",
       " 'pąsowy',\n",
       " 'kremowy',\n",
       " 'morski',\n",
       " 'woskowy',\n",
       " 'siwy',\n",
       " 'brązowy',\n",
       " 'brązowy',\n",
       " 'zielony',\n",
       " 'popielaty',\n",
       " 'lazurowy',\n",
       " 'biały',\n",
       " 'zielony',\n",
       " 'czarny',\n",
       " 'biały',\n",
       " 'biały',\n",
       " 'popielaty',\n",
       " 'biały',\n",
       " 'biały',\n",
       " 'biały',\n",
       " 'zielony',\n",
       " 'siwy',\n",
       " 'złoty',\n",
       " 'złoty',\n",
       " 'złoty',\n",
       " 'biały',\n",
       " 'żółty',\n",
       " 'zielony',\n",
       " 'czarny',\n",
       " 'czerwony',\n",
       " 'czarny',\n",
       " 'miodowy',\n",
       " 'żółty',\n",
       " 'żółty',\n",
       " 'siwy',\n",
       " 'czerwony',\n",
       " 'srebrny',\n",
       " 'miodowy',\n",
       " 'czarny',\n",
       " 'siwy',\n",
       " 'szary',\n",
       " 'zielony',\n",
       " 'szafirowy',\n",
       " 'srebrny',\n",
       " 'fiołkowy',\n",
       " 'czarny',\n",
       " 'granatowy',\n",
       " 'siwy',\n",
       " 'siwy',\n",
       " 'fioletowy',\n",
       " 'złoty',\n",
       " 'fioletowy',\n",
       " 'niebieski',\n",
       " 'szary',\n",
       " 'zielony',\n",
       " 'czarny',\n",
       " 'złoty',\n",
       " 'siny',\n",
       " 'siny',\n",
       " 'czerwony',\n",
       " 'czerwony',\n",
       " 'czarny',\n",
       " 'czarny',\n",
       " 'siwy',\n",
       " 'alabastrowy',\n",
       " 'alabastrowy',\n",
       " 'winny',\n",
       " 'popielaty']"
      ]
     },
     "execution_count": 56,
     "metadata": {},
     "output_type": "execute_result"
    }
   ],
   "source": [
    "kol"
   ]
  },
  {
   "cell_type": "markdown",
   "metadata": {},
   "source": [
    "Przykład jest interesujący z uwagi na prosty fakt: kolory, które uważamy za podobne, są \"bliżej\" do siebie w przestrzeni wektorowej RGB.\n",
    "\n",
    "Ale co z innymi słowami? Czy możliwe jest stworzenie przestrzeni wektorowej dla wszystkich słów danego języka?\n",
    "\n",
    "Aby odpowiedzieć na to pytanie, musimy trochę się cofnąć i zastanowić się, czym jest znaczenie. W przypadku kolorów to było jasne: bliskość w spektrum widma. \n",
    "\n",
    "Sprawa jest skomplikowana. Jedną z teorii popularnych wśród lingwistów, informatyków i innych osób tworzących wyszukiwarki jest [Hipoteza Dystrybucyjna](https://en.wikipedia.org/wiki/Distributional_semantics), która  stwierdza:\n",
    "\n",
    "**\"a word is characterized by the company it keeps\"**\n",
    "\n",
    "Przedmioty lingwistyczne o podobnych rozkładach mają podobne znaczenia.\n",
    "\n",
    "\"Podobne dystrybucje\" to podobne konteksty. Weźmy na przykład następujące zdania:\n",
    "\n",
    "- It was really cold yesterday.\n",
    "- It will be really warm today, though.\n",
    "- It'll be really hot tomorrow!\n",
    "- Will it be really cool Tuesday?\n",
    "\n",
    "Zgodnie z Hipotezą Dystrybucyjną słowa \"cold\", \"warm\", \"hot\" i \"cool\" muszą być w jakiś sposób powiązane (tzn. być mieć podobne znaczenie/sens), ponieważ występują w podobnym kontekście, tzn. między słowem \"really\" a słowem oznaczającym konkretny dzień. (Podobnie słowa wczoraj, dziś, jutro i wtorek muszą być ze sobą powiązane, ponieważ występują w kontekście słowa oznaczającego temperaturę).\n",
    "\n",
    "Innymi słowy, zgodnie z Hipotezą Dystrybucyjną, znaczenie słowa jest tylko dużą listą wszystkich kontekstów, w których występuje. Dwa słowa mają podobne znaczenie, jeśli mają wspólne konteksty."
   ]
  },
  {
   "cell_type": "markdown",
   "metadata": {},
   "source": [
    "### Wektoryzacja słów poprzez zliczanie kontekstu"
   ]
  },
  {
   "cell_type": "code",
   "execution_count": 31,
   "metadata": {},
   "outputs": [
    {
     "name": "stdout",
     "output_type": "stream",
     "text": [
      "It was the best of times, it was the worst worst of times.\n"
     ]
    }
   ],
   "source": [
    "print('It was the best of times, it was the worst of times.')"
   ]
  },
  {
   "cell_type": "code",
   "execution_count": 32,
   "metadata": {},
   "outputs": [
    {
     "data": {
      "text/html": [
       "<style  type=\"text/css\" >\n",
       "</style><table id=\"T_ac7d0c22_a000_11ea_8bc8_28d2444e3817\" ><thead>    <tr>        <th class=\"col_heading level0 col0\" > </th>        <th class=\"col_heading level0 col1\" >START___was</th>        <th class=\"col_heading level0 col2\" >it___the</th>        <th class=\"col_heading level0 col3\" >was___best</th>        <th class=\"col_heading level0 col4\" >the___of</th>        <th class=\"col_heading level0 col5\" >best___times</th>        <th class=\"col_heading level0 col6\" >of___it</th>        <th class=\"col_heading level0 col7\" >times___was</th>        <th class=\"col_heading level0 col8\" >was___worst</th>        <th class=\"col_heading level0 col9\" >worst___times</th>        <th class=\"col_heading level0 col10\" >of___END</th>    </tr></thead><tbody>\n",
       "                <tr>\n",
       "                                <td id=\"T_ac7d0c22_a000_11ea_8bc8_28d2444e3817row0_col0\" class=\"data row0 col0\" >it</td>\n",
       "                        <td id=\"T_ac7d0c22_a000_11ea_8bc8_28d2444e3817row0_col1\" class=\"data row0 col1\" >1</td>\n",
       "                        <td id=\"T_ac7d0c22_a000_11ea_8bc8_28d2444e3817row0_col2\" class=\"data row0 col2\" >0</td>\n",
       "                        <td id=\"T_ac7d0c22_a000_11ea_8bc8_28d2444e3817row0_col3\" class=\"data row0 col3\" >0</td>\n",
       "                        <td id=\"T_ac7d0c22_a000_11ea_8bc8_28d2444e3817row0_col4\" class=\"data row0 col4\" >0</td>\n",
       "                        <td id=\"T_ac7d0c22_a000_11ea_8bc8_28d2444e3817row0_col5\" class=\"data row0 col5\" >0</td>\n",
       "                        <td id=\"T_ac7d0c22_a000_11ea_8bc8_28d2444e3817row0_col6\" class=\"data row0 col6\" >0</td>\n",
       "                        <td id=\"T_ac7d0c22_a000_11ea_8bc8_28d2444e3817row0_col7\" class=\"data row0 col7\" >1</td>\n",
       "                        <td id=\"T_ac7d0c22_a000_11ea_8bc8_28d2444e3817row0_col8\" class=\"data row0 col8\" >0</td>\n",
       "                        <td id=\"T_ac7d0c22_a000_11ea_8bc8_28d2444e3817row0_col9\" class=\"data row0 col9\" >0</td>\n",
       "                        <td id=\"T_ac7d0c22_a000_11ea_8bc8_28d2444e3817row0_col10\" class=\"data row0 col10\" >0</td>\n",
       "            </tr>\n",
       "            <tr>\n",
       "                                <td id=\"T_ac7d0c22_a000_11ea_8bc8_28d2444e3817row1_col0\" class=\"data row1 col0\" >was</td>\n",
       "                        <td id=\"T_ac7d0c22_a000_11ea_8bc8_28d2444e3817row1_col1\" class=\"data row1 col1\" >0</td>\n",
       "                        <td id=\"T_ac7d0c22_a000_11ea_8bc8_28d2444e3817row1_col2\" class=\"data row1 col2\" >2</td>\n",
       "                        <td id=\"T_ac7d0c22_a000_11ea_8bc8_28d2444e3817row1_col3\" class=\"data row1 col3\" >0</td>\n",
       "                        <td id=\"T_ac7d0c22_a000_11ea_8bc8_28d2444e3817row1_col4\" class=\"data row1 col4\" >0</td>\n",
       "                        <td id=\"T_ac7d0c22_a000_11ea_8bc8_28d2444e3817row1_col5\" class=\"data row1 col5\" >0</td>\n",
       "                        <td id=\"T_ac7d0c22_a000_11ea_8bc8_28d2444e3817row1_col6\" class=\"data row1 col6\" >0</td>\n",
       "                        <td id=\"T_ac7d0c22_a000_11ea_8bc8_28d2444e3817row1_col7\" class=\"data row1 col7\" >0</td>\n",
       "                        <td id=\"T_ac7d0c22_a000_11ea_8bc8_28d2444e3817row1_col8\" class=\"data row1 col8\" >0</td>\n",
       "                        <td id=\"T_ac7d0c22_a000_11ea_8bc8_28d2444e3817row1_col9\" class=\"data row1 col9\" >0</td>\n",
       "                        <td id=\"T_ac7d0c22_a000_11ea_8bc8_28d2444e3817row1_col10\" class=\"data row1 col10\" >0</td>\n",
       "            </tr>\n",
       "            <tr>\n",
       "                                <td id=\"T_ac7d0c22_a000_11ea_8bc8_28d2444e3817row2_col0\" class=\"data row2 col0\" >the</td>\n",
       "                        <td id=\"T_ac7d0c22_a000_11ea_8bc8_28d2444e3817row2_col1\" class=\"data row2 col1\" >0</td>\n",
       "                        <td id=\"T_ac7d0c22_a000_11ea_8bc8_28d2444e3817row2_col2\" class=\"data row2 col2\" >0</td>\n",
       "                        <td id=\"T_ac7d0c22_a000_11ea_8bc8_28d2444e3817row2_col3\" class=\"data row2 col3\" >1</td>\n",
       "                        <td id=\"T_ac7d0c22_a000_11ea_8bc8_28d2444e3817row2_col4\" class=\"data row2 col4\" >0</td>\n",
       "                        <td id=\"T_ac7d0c22_a000_11ea_8bc8_28d2444e3817row2_col5\" class=\"data row2 col5\" >0</td>\n",
       "                        <td id=\"T_ac7d0c22_a000_11ea_8bc8_28d2444e3817row2_col6\" class=\"data row2 col6\" >0</td>\n",
       "                        <td id=\"T_ac7d0c22_a000_11ea_8bc8_28d2444e3817row2_col7\" class=\"data row2 col7\" >0</td>\n",
       "                        <td id=\"T_ac7d0c22_a000_11ea_8bc8_28d2444e3817row2_col8\" class=\"data row2 col8\" >1</td>\n",
       "                        <td id=\"T_ac7d0c22_a000_11ea_8bc8_28d2444e3817row2_col9\" class=\"data row2 col9\" >0</td>\n",
       "                        <td id=\"T_ac7d0c22_a000_11ea_8bc8_28d2444e3817row2_col10\" class=\"data row2 col10\" >0</td>\n",
       "            </tr>\n",
       "            <tr>\n",
       "                                <td id=\"T_ac7d0c22_a000_11ea_8bc8_28d2444e3817row3_col0\" class=\"data row3 col0\" >best</td>\n",
       "                        <td id=\"T_ac7d0c22_a000_11ea_8bc8_28d2444e3817row3_col1\" class=\"data row3 col1\" >0</td>\n",
       "                        <td id=\"T_ac7d0c22_a000_11ea_8bc8_28d2444e3817row3_col2\" class=\"data row3 col2\" >0</td>\n",
       "                        <td id=\"T_ac7d0c22_a000_11ea_8bc8_28d2444e3817row3_col3\" class=\"data row3 col3\" >0</td>\n",
       "                        <td id=\"T_ac7d0c22_a000_11ea_8bc8_28d2444e3817row3_col4\" class=\"data row3 col4\" >1</td>\n",
       "                        <td id=\"T_ac7d0c22_a000_11ea_8bc8_28d2444e3817row3_col5\" class=\"data row3 col5\" >0</td>\n",
       "                        <td id=\"T_ac7d0c22_a000_11ea_8bc8_28d2444e3817row3_col6\" class=\"data row3 col6\" >0</td>\n",
       "                        <td id=\"T_ac7d0c22_a000_11ea_8bc8_28d2444e3817row3_col7\" class=\"data row3 col7\" >0</td>\n",
       "                        <td id=\"T_ac7d0c22_a000_11ea_8bc8_28d2444e3817row3_col8\" class=\"data row3 col8\" >0</td>\n",
       "                        <td id=\"T_ac7d0c22_a000_11ea_8bc8_28d2444e3817row3_col9\" class=\"data row3 col9\" >0</td>\n",
       "                        <td id=\"T_ac7d0c22_a000_11ea_8bc8_28d2444e3817row3_col10\" class=\"data row3 col10\" >0</td>\n",
       "            </tr>\n",
       "            <tr>\n",
       "                                <td id=\"T_ac7d0c22_a000_11ea_8bc8_28d2444e3817row4_col0\" class=\"data row4 col0\" >of</td>\n",
       "                        <td id=\"T_ac7d0c22_a000_11ea_8bc8_28d2444e3817row4_col1\" class=\"data row4 col1\" >0</td>\n",
       "                        <td id=\"T_ac7d0c22_a000_11ea_8bc8_28d2444e3817row4_col2\" class=\"data row4 col2\" >0</td>\n",
       "                        <td id=\"T_ac7d0c22_a000_11ea_8bc8_28d2444e3817row4_col3\" class=\"data row4 col3\" >0</td>\n",
       "                        <td id=\"T_ac7d0c22_a000_11ea_8bc8_28d2444e3817row4_col4\" class=\"data row4 col4\" >0</td>\n",
       "                        <td id=\"T_ac7d0c22_a000_11ea_8bc8_28d2444e3817row4_col5\" class=\"data row4 col5\" >1</td>\n",
       "                        <td id=\"T_ac7d0c22_a000_11ea_8bc8_28d2444e3817row4_col6\" class=\"data row4 col6\" >0</td>\n",
       "                        <td id=\"T_ac7d0c22_a000_11ea_8bc8_28d2444e3817row4_col7\" class=\"data row4 col7\" >0</td>\n",
       "                        <td id=\"T_ac7d0c22_a000_11ea_8bc8_28d2444e3817row4_col8\" class=\"data row4 col8\" >0</td>\n",
       "                        <td id=\"T_ac7d0c22_a000_11ea_8bc8_28d2444e3817row4_col9\" class=\"data row4 col9\" >1</td>\n",
       "                        <td id=\"T_ac7d0c22_a000_11ea_8bc8_28d2444e3817row4_col10\" class=\"data row4 col10\" >0</td>\n",
       "            </tr>\n",
       "            <tr>\n",
       "                                <td id=\"T_ac7d0c22_a000_11ea_8bc8_28d2444e3817row5_col0\" class=\"data row5 col0\" >times</td>\n",
       "                        <td id=\"T_ac7d0c22_a000_11ea_8bc8_28d2444e3817row5_col1\" class=\"data row5 col1\" >0</td>\n",
       "                        <td id=\"T_ac7d0c22_a000_11ea_8bc8_28d2444e3817row5_col2\" class=\"data row5 col2\" >0</td>\n",
       "                        <td id=\"T_ac7d0c22_a000_11ea_8bc8_28d2444e3817row5_col3\" class=\"data row5 col3\" >0</td>\n",
       "                        <td id=\"T_ac7d0c22_a000_11ea_8bc8_28d2444e3817row5_col4\" class=\"data row5 col4\" >0</td>\n",
       "                        <td id=\"T_ac7d0c22_a000_11ea_8bc8_28d2444e3817row5_col5\" class=\"data row5 col5\" >0</td>\n",
       "                        <td id=\"T_ac7d0c22_a000_11ea_8bc8_28d2444e3817row5_col6\" class=\"data row5 col6\" >1</td>\n",
       "                        <td id=\"T_ac7d0c22_a000_11ea_8bc8_28d2444e3817row5_col7\" class=\"data row5 col7\" >0</td>\n",
       "                        <td id=\"T_ac7d0c22_a000_11ea_8bc8_28d2444e3817row5_col8\" class=\"data row5 col8\" >0</td>\n",
       "                        <td id=\"T_ac7d0c22_a000_11ea_8bc8_28d2444e3817row5_col9\" class=\"data row5 col9\" >0</td>\n",
       "                        <td id=\"T_ac7d0c22_a000_11ea_8bc8_28d2444e3817row5_col10\" class=\"data row5 col10\" >1</td>\n",
       "            </tr>\n",
       "            <tr>\n",
       "                                <td id=\"T_ac7d0c22_a000_11ea_8bc8_28d2444e3817row6_col0\" class=\"data row6 col0\" >worst</td>\n",
       "                        <td id=\"T_ac7d0c22_a000_11ea_8bc8_28d2444e3817row6_col1\" class=\"data row6 col1\" >0</td>\n",
       "                        <td id=\"T_ac7d0c22_a000_11ea_8bc8_28d2444e3817row6_col2\" class=\"data row6 col2\" >0</td>\n",
       "                        <td id=\"T_ac7d0c22_a000_11ea_8bc8_28d2444e3817row6_col3\" class=\"data row6 col3\" >0</td>\n",
       "                        <td id=\"T_ac7d0c22_a000_11ea_8bc8_28d2444e3817row6_col4\" class=\"data row6 col4\" >1</td>\n",
       "                        <td id=\"T_ac7d0c22_a000_11ea_8bc8_28d2444e3817row6_col5\" class=\"data row6 col5\" >0</td>\n",
       "                        <td id=\"T_ac7d0c22_a000_11ea_8bc8_28d2444e3817row6_col6\" class=\"data row6 col6\" >0</td>\n",
       "                        <td id=\"T_ac7d0c22_a000_11ea_8bc8_28d2444e3817row6_col7\" class=\"data row6 col7\" >0</td>\n",
       "                        <td id=\"T_ac7d0c22_a000_11ea_8bc8_28d2444e3817row6_col8\" class=\"data row6 col8\" >0</td>\n",
       "                        <td id=\"T_ac7d0c22_a000_11ea_8bc8_28d2444e3817row6_col9\" class=\"data row6 col9\" >0</td>\n",
       "                        <td id=\"T_ac7d0c22_a000_11ea_8bc8_28d2444e3817row6_col10\" class=\"data row6 col10\" >0</td>\n",
       "            </tr>\n",
       "    </tbody></table>"
      ],
      "text/plain": [
       "<pandas.io.formats.style.Styler at 0x26f315b66c8>"
      ]
     },
     "execution_count": 32,
     "metadata": {},
     "output_type": "execute_result"
    }
   ],
   "source": [
    "import pandas as pd\n",
    "import numpy as np\n",
    "\n",
    "df = pd.DataFrame({\n",
    "' ': ['it', 'was', 'the', 'best', 'of', 'times', 'worst'],\n",
    "'START___was': [1, 0, 0, 0, 0, 0, 0],\n",
    "'it___the': [0, 2, 0, 0, 0, 0, 0],\n",
    "'was___best': [0, 0, 1, 0, 0, 0, 0],\n",
    "'the___of': [0, 0, 0, 1, 0, 0, 1],\n",
    "'best___times': [0, 0, 0, 0, 1, 0, 0],\n",
    "'of___it': [0, 0, 0, 0, 0, 1, 0],\n",
    "'times___was': [1, 0, 0, 0, 0, 0, 0],\n",
    "'was___worst': [0, 0, 1, 0, 0, 0, 0],\n",
    "'worst___times': [0, 0, 0, 0, 1, 0, 0],\n",
    "'of___END': [0, 0, 0, 0, 0, 1, 0]\n",
    "})\n",
    "# trzeba doinstalować: conda install -c intel jinja2\n",
    "df.style.hide_index()"
   ]
  },
  {
   "cell_type": "markdown",
   "metadata": {},
   "source": [
    "Wartości w każdej komórce odpowiadają temu, ile razy słowo występuje w danym kontekście. Liczby w wierszach stanowią wektor tego słowa, tzn. wektor dla słowa **of** jest\n",
    "\n",
    "[0, 0, 0, 0, 1, 0, 0, 0, 1, 0]\n",
    "\n",
    "Ponieważ istnieje dziesięć możliwych kontekstów, jest to przestrzeń dziesięciowymiarowa! \n",
    "\n",
    "Choć może wydawać się to dziwne, na wektorach z dziesięcioma wymiarami można zrobić arytmetykę wektorową równie łatwo, co na wektorach z dwoma lub trzema wymiarami. Można użyć tej samej formuły odległości, którą zdefiniowaliśmy wcześniej, aby uzyskać użyteczne informacje o tym, które wektory w tej przestrzeni są do siebie podobne. W szczególności wektory dla \"najlepszego\" i \"najgorszego\" są w rzeczywistości takie same (odległość równa zeru), ponieważ występują tylko w jednym i tym samym kontekście (the___ of):\n",
    "\n",
    "[0, 0, 0, 1, 0, 0, 0, 0, 0, 0]\n",
    "\n",
    "Oczywiście w korpusie o rozsądnej wielkości będzie wiele tysięcy, jeśli nie wiele milionów możliwych kontekstów. To wystarczająco trudne pracować z przestrzenią wektorową dziesięciu wymiarów, nie mówiąc już o przestrzeni wektorowej miliona wymiarów! Okazuje się jednak, że wiele z tych wymiarów staje się zbędnych i można je albo wyeliminować, albo połączyć z innymi wymiarami bez znaczącego wpływu na siłę prognostyczną powstałych wektorów. Proces pozbywania się zbędnych wymiarów w przestrzeni wektorowej nazywany jest redukcją wymiarowości, a większość implementacji słownych wektorów zliczających wykorzystuje redukcję wymiarowości, tak aby wynikowa przestrzeń wektorowa miała rozsądną liczbę wymiarów (powiedzmy 100-300, w zależności od korpusu i zastosowania).\n",
    "\n",
    "Sama odpowiedź na pytanie, jak zidentyfikować \"kontekst\" jest bardzo trudna. \n",
    "\n",
    "W zależności od implementacji tej procedury, możesz jednak uwzględnić kontekst z większym \"oknem\" (np. dwa słowa przed i po) lub nieciągłym oknem (pominąć słowo przed i po danym słowie). Możesz wykluczyć pewne słowa \"funkcyjne\", takie jak \"the\" i \"of\", przy określaniu kontekstu słowa lub też możesz zlematyzować słowa przed rozpoczęciem analizy (w efekcie dwa wystąpienia z różnymi \"formami\" tego samego słowa liczą się jako ten sam kontekst). To wszystko są pytania otwarte na badania i dyskusje, a w różnych implementacjach procedur tworzenia wektorów słów liczonych podejmuje się różne decyzje w tej kwestii."
   ]
  },
  {
   "cell_type": "markdown",
   "metadata": {},
   "source": [
    "### Wektoryzacja w spaCy"
   ]
  },
  {
   "cell_type": "code",
   "execution_count": 1,
   "metadata": {},
   "outputs": [],
   "source": [
    "import spacy\n",
    "nlp = spacy.load('en_core_web_md')"
   ]
  },
  {
   "cell_type": "code",
   "execution_count": 2,
   "metadata": {},
   "outputs": [],
   "source": [
    "with open (r'C:\\py\\textmining\\zajęcia 6\\dane\\pg345.txt') as f:\n",
    "    doc = nlp(f.read())"
   ]
  },
  {
   "cell_type": "code",
   "execution_count": 3,
   "metadata": {},
   "outputs": [],
   "source": [
    "# lista wszystkich słów z tekstu \n",
    "tokens = list(set([w.text for w in doc if w.is_alpha]))\n",
    "    "
   ]
  },
  {
   "cell_type": "code",
   "execution_count": 4,
   "metadata": {
    "scrolled": true
   },
   "outputs": [
    {
     "data": {
      "text/plain": [
       "array([-5.5252e-01,  1.8894e-01,  6.8737e-01, -1.9789e-01,  7.0575e-02,\n",
       "        1.0075e+00,  5.1789e-02, -1.5603e-01,  3.1941e-01,  1.1702e+00,\n",
       "       -4.7248e-01,  4.2867e-01, -4.2025e-01,  2.4803e-01,  6.8194e-01,\n",
       "       -6.7488e-01,  9.2401e-02,  1.3089e+00, -3.6278e-02,  2.0098e-01,\n",
       "        7.6005e-01, -6.6718e-02, -7.7794e-02,  2.3844e-01, -2.4351e-01,\n",
       "       -5.4164e-01, -3.3540e-01,  2.9805e-01,  3.5269e-01, -8.0594e-01,\n",
       "       -4.3611e-01,  6.1535e-01,  3.4212e-01, -3.3603e-01,  3.3282e-01,\n",
       "        3.8065e-01,  5.7427e-02,  9.9918e-02,  1.2525e-01,  1.1039e+00,\n",
       "        3.6678e-02,  3.0490e-01, -1.4942e-01,  3.2912e-01,  2.3300e-01,\n",
       "        4.3395e-01,  1.5666e-01,  2.2778e-01, -2.5830e-02,  2.4334e-01,\n",
       "       -5.8136e-02, -1.3486e-01,  2.4521e-01, -3.3459e-01,  4.2839e-01,\n",
       "       -4.8181e-01,  1.3403e-01,  2.6049e-01,  8.9933e-02, -9.3770e-02,\n",
       "        3.7672e-01, -2.9558e-02,  4.3841e-01,  6.1212e-01, -2.5720e-01,\n",
       "       -7.8506e-01,  2.3880e-01,  1.3399e-01, -7.9315e-02,  7.0582e-01,\n",
       "        3.9968e-01,  6.7779e-01, -2.0474e-03,  1.9785e-02, -4.2059e-01,\n",
       "       -5.3858e-01, -5.2155e-02,  1.7252e-01,  2.7547e-01, -4.4482e-01,\n",
       "        2.3595e-01, -2.3445e-01,  3.0103e-01, -5.5096e-01, -3.1159e-02,\n",
       "       -3.4433e-01,  1.2386e+00,  1.0317e+00, -2.2728e-01, -9.5207e-03,\n",
       "       -2.5432e-01, -2.9792e-01,  2.5934e-01, -1.0421e-01, -3.3876e-01,\n",
       "        4.2470e-01,  5.8335e-04,  1.3093e-01,  2.8786e-01,  2.3474e-01,\n",
       "        2.5905e-02, -6.4359e-01,  6.1330e-02,  6.3842e-01,  1.4705e-01,\n",
       "       -6.1594e-01,  2.5097e-01, -4.4872e-01,  8.6825e-01,  9.9555e-02,\n",
       "       -4.4734e-02, -7.4239e-01, -5.9147e-01, -5.4929e-01,  3.8108e-01,\n",
       "        5.5177e-02, -1.0487e-01, -1.2838e-01,  6.0521e-03,  2.8743e-01,\n",
       "        2.1592e-01,  7.2871e-02, -3.1644e-01, -4.3321e-01,  1.8682e-01,\n",
       "        6.7274e-02,  2.8115e-01, -4.6222e-02, -9.6803e-02,  5.6091e-01,\n",
       "       -6.7762e-01, -1.6645e-01,  1.5553e-01,  5.2301e-01, -3.0058e-01,\n",
       "       -3.7291e-01,  8.7895e-02, -1.7963e-01, -4.4193e-01, -4.4607e-01,\n",
       "       -2.4122e+00,  3.3738e-01,  6.2416e-01,  4.2787e-01, -2.5386e-01,\n",
       "       -6.1683e-01, -7.0097e-01,  4.9303e-01,  3.6916e-01, -9.7499e-02,\n",
       "        6.1411e-01, -4.7572e-03,  4.3916e-01, -2.1551e-01, -5.6745e-01,\n",
       "       -4.0278e-01,  2.9459e-01, -3.0850e-01,  1.0103e-01,  7.9741e-02,\n",
       "       -6.3811e-01,  2.4781e-01, -4.4546e-01,  1.0828e-01, -2.3624e-01,\n",
       "       -5.0838e-01, -1.7001e-01, -7.8735e-01,  3.4073e-01, -3.1830e-01,\n",
       "        4.5286e-01, -9.5118e-02,  2.0772e-01, -8.0183e-02, -3.7982e-01,\n",
       "       -4.9949e-01,  4.0759e-02, -3.7724e-01, -8.9705e-02, -6.8187e-01,\n",
       "        2.2106e-01, -3.9931e-01,  3.2329e-01, -3.6180e-01, -7.2093e-01,\n",
       "       -6.3404e-01,  4.3125e-01, -4.9743e-01, -1.7395e-01, -3.8779e-01,\n",
       "       -3.2556e-01,  1.4423e-01, -8.3401e-02, -2.2994e-01,  2.7793e-01,\n",
       "        4.9112e-01,  6.4511e-01, -7.8945e-02,  1.1171e-01,  3.7264e-01,\n",
       "        1.3070e-01, -6.1607e-02, -4.3501e-01,  2.8999e-02,  5.6224e-01,\n",
       "        5.8012e-02,  4.7078e-02,  4.2770e-01,  7.3245e-01, -2.1150e-02,\n",
       "        1.1988e-01,  7.8823e-02, -1.9106e-01,  3.5278e-02, -3.1102e-01,\n",
       "        1.3209e-01, -2.8606e-01, -1.5649e-01, -6.4339e-01,  4.4599e-01,\n",
       "       -3.0912e-01,  4.4520e-01, -3.6774e-01,  2.7327e-01,  6.7833e-01,\n",
       "       -8.3830e-02, -4.5120e-01,  1.0754e-01, -4.5908e-01,  1.5095e-01,\n",
       "       -4.5856e-01,  3.4465e-01,  7.8013e-02, -2.8319e-01, -2.8149e-02,\n",
       "        2.4404e-01, -7.1345e-01,  5.2834e-02, -2.8085e-01,  2.5344e-02,\n",
       "        4.2979e-02,  1.5663e-01, -7.4647e-01, -1.1301e+00,  4.4135e-01,\n",
       "        3.1444e-01, -1.0018e-01, -5.3526e-01, -9.0601e-01, -6.4954e-01,\n",
       "        4.2664e-02, -7.9927e-02,  3.2905e-01, -3.0797e-01, -1.9190e-02,\n",
       "        4.2765e-01,  3.1460e-01,  2.9051e-01, -2.7386e-01,  6.8483e-01,\n",
       "        1.9395e-02, -3.2884e-01, -4.8239e-01, -1.5747e-01, -1.6036e-01,\n",
       "        4.9164e-01, -7.0352e-01, -3.5591e-01, -7.4887e-01, -5.2827e-01,\n",
       "        4.4983e-02,  5.9247e-02,  4.6224e-01,  8.9697e-02, -7.5618e-01,\n",
       "        6.3682e-01,  9.0680e-02,  6.8830e-02,  1.8296e-01,  1.0754e-01,\n",
       "        6.7811e-01, -1.4716e-01,  1.7029e-01, -5.2630e-01,  1.9268e-01,\n",
       "        9.3130e-01,  8.0363e-01,  6.1324e-01, -3.0494e-01,  2.0236e-01,\n",
       "        5.8520e-01,  2.6484e-01, -4.5863e-01,  2.1035e-03, -5.6990e-01,\n",
       "       -4.9092e-01,  4.2511e-01, -1.0954e+00,  1.7124e-01,  2.2495e-01],\n",
       "      dtype=float32)"
      ]
     },
     "execution_count": 4,
     "metadata": {},
     "output_type": "execute_result"
    }
   ],
   "source": [
    "nlp('cheese').vector"
   ]
  },
  {
   "cell_type": "code",
   "execution_count": 5,
   "metadata": {},
   "outputs": [],
   "source": [
    "# funkcja skracająca\n",
    "def vec(s):\n",
    "    return nlp(s).vector\n"
   ]
  },
  {
   "cell_type": "code",
   "execution_count": 6,
   "metadata": {
    "scrolled": true
   },
   "outputs": [
    {
     "data": {
      "text/plain": [
       "array([-5.5252e-01,  1.8894e-01,  6.8737e-01, -1.9789e-01,  7.0575e-02,\n",
       "        1.0075e+00,  5.1789e-02, -1.5603e-01,  3.1941e-01,  1.1702e+00,\n",
       "       -4.7248e-01,  4.2867e-01, -4.2025e-01,  2.4803e-01,  6.8194e-01,\n",
       "       -6.7488e-01,  9.2401e-02,  1.3089e+00, -3.6278e-02,  2.0098e-01,\n",
       "        7.6005e-01, -6.6718e-02, -7.7794e-02,  2.3844e-01, -2.4351e-01,\n",
       "       -5.4164e-01, -3.3540e-01,  2.9805e-01,  3.5269e-01, -8.0594e-01,\n",
       "       -4.3611e-01,  6.1535e-01,  3.4212e-01, -3.3603e-01,  3.3282e-01,\n",
       "        3.8065e-01,  5.7427e-02,  9.9918e-02,  1.2525e-01,  1.1039e+00,\n",
       "        3.6678e-02,  3.0490e-01, -1.4942e-01,  3.2912e-01,  2.3300e-01,\n",
       "        4.3395e-01,  1.5666e-01,  2.2778e-01, -2.5830e-02,  2.4334e-01,\n",
       "       -5.8136e-02, -1.3486e-01,  2.4521e-01, -3.3459e-01,  4.2839e-01,\n",
       "       -4.8181e-01,  1.3403e-01,  2.6049e-01,  8.9933e-02, -9.3770e-02,\n",
       "        3.7672e-01, -2.9558e-02,  4.3841e-01,  6.1212e-01, -2.5720e-01,\n",
       "       -7.8506e-01,  2.3880e-01,  1.3399e-01, -7.9315e-02,  7.0582e-01,\n",
       "        3.9968e-01,  6.7779e-01, -2.0474e-03,  1.9785e-02, -4.2059e-01,\n",
       "       -5.3858e-01, -5.2155e-02,  1.7252e-01,  2.7547e-01, -4.4482e-01,\n",
       "        2.3595e-01, -2.3445e-01,  3.0103e-01, -5.5096e-01, -3.1159e-02,\n",
       "       -3.4433e-01,  1.2386e+00,  1.0317e+00, -2.2728e-01, -9.5207e-03,\n",
       "       -2.5432e-01, -2.9792e-01,  2.5934e-01, -1.0421e-01, -3.3876e-01,\n",
       "        4.2470e-01,  5.8335e-04,  1.3093e-01,  2.8786e-01,  2.3474e-01,\n",
       "        2.5905e-02, -6.4359e-01,  6.1330e-02,  6.3842e-01,  1.4705e-01,\n",
       "       -6.1594e-01,  2.5097e-01, -4.4872e-01,  8.6825e-01,  9.9555e-02,\n",
       "       -4.4734e-02, -7.4239e-01, -5.9147e-01, -5.4929e-01,  3.8108e-01,\n",
       "        5.5177e-02, -1.0487e-01, -1.2838e-01,  6.0521e-03,  2.8743e-01,\n",
       "        2.1592e-01,  7.2871e-02, -3.1644e-01, -4.3321e-01,  1.8682e-01,\n",
       "        6.7274e-02,  2.8115e-01, -4.6222e-02, -9.6803e-02,  5.6091e-01,\n",
       "       -6.7762e-01, -1.6645e-01,  1.5553e-01,  5.2301e-01, -3.0058e-01,\n",
       "       -3.7291e-01,  8.7895e-02, -1.7963e-01, -4.4193e-01, -4.4607e-01,\n",
       "       -2.4122e+00,  3.3738e-01,  6.2416e-01,  4.2787e-01, -2.5386e-01,\n",
       "       -6.1683e-01, -7.0097e-01,  4.9303e-01,  3.6916e-01, -9.7499e-02,\n",
       "        6.1411e-01, -4.7572e-03,  4.3916e-01, -2.1551e-01, -5.6745e-01,\n",
       "       -4.0278e-01,  2.9459e-01, -3.0850e-01,  1.0103e-01,  7.9741e-02,\n",
       "       -6.3811e-01,  2.4781e-01, -4.4546e-01,  1.0828e-01, -2.3624e-01,\n",
       "       -5.0838e-01, -1.7001e-01, -7.8735e-01,  3.4073e-01, -3.1830e-01,\n",
       "        4.5286e-01, -9.5118e-02,  2.0772e-01, -8.0183e-02, -3.7982e-01,\n",
       "       -4.9949e-01,  4.0759e-02, -3.7724e-01, -8.9705e-02, -6.8187e-01,\n",
       "        2.2106e-01, -3.9931e-01,  3.2329e-01, -3.6180e-01, -7.2093e-01,\n",
       "       -6.3404e-01,  4.3125e-01, -4.9743e-01, -1.7395e-01, -3.8779e-01,\n",
       "       -3.2556e-01,  1.4423e-01, -8.3401e-02, -2.2994e-01,  2.7793e-01,\n",
       "        4.9112e-01,  6.4511e-01, -7.8945e-02,  1.1171e-01,  3.7264e-01,\n",
       "        1.3070e-01, -6.1607e-02, -4.3501e-01,  2.8999e-02,  5.6224e-01,\n",
       "        5.8012e-02,  4.7078e-02,  4.2770e-01,  7.3245e-01, -2.1150e-02,\n",
       "        1.1988e-01,  7.8823e-02, -1.9106e-01,  3.5278e-02, -3.1102e-01,\n",
       "        1.3209e-01, -2.8606e-01, -1.5649e-01, -6.4339e-01,  4.4599e-01,\n",
       "       -3.0912e-01,  4.4520e-01, -3.6774e-01,  2.7327e-01,  6.7833e-01,\n",
       "       -8.3830e-02, -4.5120e-01,  1.0754e-01, -4.5908e-01,  1.5095e-01,\n",
       "       -4.5856e-01,  3.4465e-01,  7.8013e-02, -2.8319e-01, -2.8149e-02,\n",
       "        2.4404e-01, -7.1345e-01,  5.2834e-02, -2.8085e-01,  2.5344e-02,\n",
       "        4.2979e-02,  1.5663e-01, -7.4647e-01, -1.1301e+00,  4.4135e-01,\n",
       "        3.1444e-01, -1.0018e-01, -5.3526e-01, -9.0601e-01, -6.4954e-01,\n",
       "        4.2664e-02, -7.9927e-02,  3.2905e-01, -3.0797e-01, -1.9190e-02,\n",
       "        4.2765e-01,  3.1460e-01,  2.9051e-01, -2.7386e-01,  6.8483e-01,\n",
       "        1.9395e-02, -3.2884e-01, -4.8239e-01, -1.5747e-01, -1.6036e-01,\n",
       "        4.9164e-01, -7.0352e-01, -3.5591e-01, -7.4887e-01, -5.2827e-01,\n",
       "        4.4983e-02,  5.9247e-02,  4.6224e-01,  8.9697e-02, -7.5618e-01,\n",
       "        6.3682e-01,  9.0680e-02,  6.8830e-02,  1.8296e-01,  1.0754e-01,\n",
       "        6.7811e-01, -1.4716e-01,  1.7029e-01, -5.2630e-01,  1.9268e-01,\n",
       "        9.3130e-01,  8.0363e-01,  6.1324e-01, -3.0494e-01,  2.0236e-01,\n",
       "        5.8520e-01,  2.6484e-01, -4.5863e-01,  2.1035e-03, -5.6990e-01,\n",
       "       -4.9092e-01,  4.2511e-01, -1.0954e+00,  1.7124e-01,  2.2495e-01],\n",
       "      dtype=float32)"
      ]
     },
     "execution_count": 6,
     "metadata": {},
     "output_type": "execute_result"
    }
   ],
   "source": [
    "vec('cheese')"
   ]
  },
  {
   "cell_type": "markdown",
   "metadata": {},
   "source": [
    "### Szukanie podobieństw w n-wymiarowej przestrzeni: podobieństwo kosinusowe (cosine similarity)\n",
    "\n",
    "[Stopień podobieństwa dwóch wyrazów](http://dsmodels.nlp.ipipan.waw.pl/sim1.html)"
   ]
  },
  {
   "cell_type": "code",
   "execution_count": 7,
   "metadata": {},
   "outputs": [],
   "source": [
    "import numpy as np\n",
    "from numpy import dot\n",
    "from numpy.linalg import norm\n",
    "\n",
    "def cosine(v1, v2):\n",
    "    if norm(v1) > 0 and norm(v2) > 0:\n",
    "        return dot(v1, v2) / (norm(v1) * norm(v2))\n",
    "    else:\n",
    "        return 0.0"
   ]
  },
  {
   "cell_type": "markdown",
   "metadata": {},
   "source": [
    "Poniższa komórka pokazuje, że cosinusowe podobieństwo między `dog` i `puppy` jest większe niż podobieństwo między `trousers` i `octopus`, dowodząc tym samym, że wektory działają tak, jak tego oczekujemy:"
   ]
  },
  {
   "cell_type": "code",
   "execution_count": 8,
   "metadata": {},
   "outputs": [
    {
     "data": {
      "text/plain": [
       "True"
      ]
     },
     "execution_count": 8,
     "metadata": {},
     "output_type": "execute_result"
    }
   ],
   "source": [
    "cosine(vec('dog'), vec('puppy')) > cosine(vec('trousers'), vec('octopus'))"
   ]
  },
  {
   "cell_type": "markdown",
   "metadata": {},
   "source": [
    "Poniższej zdefiniowana została funkcja, która iteruje przez listę tokenów i zwraca tokeny, których wektor jest najbardziej podobny do danego wektora."
   ]
  },
  {
   "cell_type": "code",
   "execution_count": 9,
   "metadata": {},
   "outputs": [],
   "source": [
    "def spacy_closest(token_list, vec_to_check, n=10):\n",
    "    return sorted(token_list,\n",
    "                  key=lambda x: cosine(vec_to_check, vec(x)),\n",
    "                  reverse=True)[:n]"
   ]
  },
  {
   "cell_type": "markdown",
   "metadata": {},
   "source": [
    "Na przykład, jakie słowa są nabliższe słowu \"basketball\" w powieści *Dracula*:"
   ]
  },
  {
   "cell_type": "code",
   "execution_count": 10,
   "metadata": {},
   "outputs": [
    {
     "data": {
      "text/plain": [
       "['tennis',\n",
       " 'coach',\n",
       " 'game',\n",
       " 'teams',\n",
       " 'junior',\n",
       " 'Junior',\n",
       " 'Team',\n",
       " 'school',\n",
       " 'boys',\n",
       " 'puma']"
      ]
     },
     "execution_count": 10,
     "metadata": {},
     "output_type": "execute_result"
    }
   ],
   "source": [
    "spacy_closest(tokens, vec(\"basketball\"))"
   ]
  },
  {
   "cell_type": "markdown",
   "metadata": {},
   "source": [
    "### Algebra liniowa w powieści *Dracula*"
   ]
  },
  {
   "cell_type": "code",
   "execution_count": null,
   "metadata": {},
   "outputs": [],
   "source": [
    "# co jest pomiędzy dniem a nocą\n",
    "spacy_closest(tokens, meanv([vec(\"day\"), vec(\"night\")]))"
   ]
  },
  {
   "cell_type": "code",
   "execution_count": 17,
   "metadata": {},
   "outputs": [
    {
     "data": {
      "text/plain": [
       "['wine',\n",
       " 'sparkling',\n",
       " 'beer',\n",
       " 'bottle',\n",
       " 'corked',\n",
       " 'jug',\n",
       " 'drink',\n",
       " 'Drink',\n",
       " 'fruit',\n",
       " 'bottles']"
      ]
     },
     "execution_count": 17,
     "metadata": {},
     "output_type": "execute_result"
    }
   ],
   "source": [
    "# najbliższe słowo do 'wine'\n",
    "spacy_closest(tokens, vec(\"wine\"))"
   ]
  },
  {
   "cell_type": "code",
   "execution_count": 18,
   "metadata": {},
   "outputs": [
    {
     "data": {
      "text/plain": [
       "['wine',\n",
       " 'sparkling',\n",
       " 'graceful',\n",
       " 'exquisite',\n",
       " 'fabulous',\n",
       " 'magnificent',\n",
       " 'marvellous',\n",
       " 'splendid',\n",
       " 'delightful',\n",
       " 'banquet']"
      ]
     },
     "execution_count": 18,
     "metadata": {},
     "output_type": "execute_result"
    }
   ],
   "source": [
    "#  a co zostanie, jak od wina odejmiemy alkohol?\n",
    "spacy_closest(tokens, subtractv(vec(\"wine\"), vec(\"alcohol\")))"
   ]
  },
  {
   "cell_type": "code",
   "execution_count": null,
   "metadata": {},
   "outputs": [],
   "source": [
    "# najbliższe do wody będzie...\n",
    "spacy_closest(tokens, vec(\"water\"))"
   ]
  },
  {
   "cell_type": "code",
   "execution_count": null,
   "metadata": {},
   "outputs": [],
   "source": [
    "# a co jeśli zmrozimy wodę\n",
    "spacy_closest(tokens, addv(vec(\"water\"), vec(\"frozen\")))"
   ]
  },
  {
   "cell_type": "markdown",
   "metadata": {},
   "source": [
    "### Podobieństwo zdań.\n",
    "\n",
    "Aby uzyskać wektor dla zdania, po prostu uśredniamy jego wektory składowe:"
   ]
  },
  {
   "cell_type": "code",
   "execution_count": 19,
   "metadata": {},
   "outputs": [],
   "source": [
    "def sentvec(s):\n",
    "    sent = nlp(s)\n",
    "    return meanv([w.vector for w in sent])"
   ]
  },
  {
   "cell_type": "markdown",
   "metadata": {},
   "source": [
    "Znajdźmy zdanie w naszym pliku tekstowym, które jest najbliższe w \"znaczeniu\" dowolnemu zdaniu wejściowemu. \n",
    "\n",
    "Na początek jednak musimy stworzyć listę zdań:"
   ]
  },
  {
   "cell_type": "code",
   "execution_count": 20,
   "metadata": {},
   "outputs": [],
   "source": [
    "sentences = list(doc.sents)"
   ]
  },
  {
   "cell_type": "markdown",
   "metadata": {},
   "source": [
    "Poniższa funkcja pobiera listę zdań i porównuje je do zdania wejściowego, sortując je według podobieństwa kosinusowego."
   ]
  },
  {
   "cell_type": "code",
   "execution_count": 22,
   "metadata": {},
   "outputs": [],
   "source": [
    "def spacy_closest_sent(space, input_str, n=10):\n",
    "    input_vec = sentvec(input_str)\n",
    "    return sorted(space,\n",
    "                  key=lambda x: cosine(np.mean([w.vector for w in x], axis=0), input_vec),\n",
    "                  reverse=True)[:n]"
   ]
  },
  {
   "cell_type": "code",
   "execution_count": 23,
   "metadata": {},
   "outputs": [
    {
     "name": "stdout",
     "output_type": "stream",
     "text": [
      "This, with some cheese\n",
      "and a salad and a bottle of old Tokay, of which I had two glasses, was\n",
      "my supper.\n",
      "---\n",
      "I had for dinner, or\n",
      "rather supper, a chicken done up some way with red pepper, which was\n",
      "very good but thirsty.\n",
      "---\n",
      "I dined on what they\n",
      "called \"robber steak\"--bits of bacon, onion, and beef, seasoned with red\n",
      "pepper, and strung on sticks and roasted over the fire, in the simple\n",
      "style of the London cat's meat!\n",
      "---\n",
      "We get hot soup, or coffee, or tea; and\n",
      "off we go.\n",
      "---\n",
      "\" I set to and\n",
      "enjoyed a hearty meal.\n",
      "---\n",
      "I had for breakfast more paprika, and a sort of porridge of maize flour\n",
      "which they said was \"mamaliga,\" and egg-plant stuffed with forcemeat, a\n",
      "very excellent dish, which they call \"impletata.\"\n",
      "---\n",
      "There was everywhere a bewildering mass of fruit blossom--apple,\n",
      "plum, pear, cherry; and as we drove by I could see the green grass under\n",
      "the trees spangled with the fallen petals.\n",
      "---\n",
      "I got a cup of tea at the AĂ«rated Bread Company\n",
      "and came down to Purfleet by the next train.\n",
      "\n",
      "\n",
      "---\n",
      "There is not even a toilet glass on my\n",
      "table, and I had to get the little shaving glass from my bag before I\n",
      "could either shave or brush my hair.\n",
      "---\n",
      "Drink it off, like a good\n",
      "child.\n",
      "---\n"
     ]
    }
   ],
   "source": [
    "for sent in spacy_closest_sent(sentences, \"My favorite food is strawberry ice cream.\"):\n",
    "    print (sent.text)\n",
    "    print (\"---\")"
   ]
  },
  {
   "cell_type": "code",
   "execution_count": null,
   "metadata": {},
   "outputs": [],
   "source": []
  },
  {
   "cell_type": "code",
   "execution_count": null,
   "metadata": {},
   "outputs": [],
   "source": []
  },
  {
   "cell_type": "code",
   "execution_count": null,
   "metadata": {},
   "outputs": [],
   "source": []
  },
  {
   "cell_type": "code",
   "execution_count": null,
   "metadata": {},
   "outputs": [],
   "source": []
  }
 ],
 "metadata": {
  "kernelspec": {
   "display_name": "Python 3",
   "language": "python",
   "name": "python3"
  },
  "language_info": {
   "codemirror_mode": {
    "name": "ipython",
    "version": 3
   },
   "file_extension": ".py",
   "mimetype": "text/x-python",
   "name": "python",
   "nbconvert_exporter": "python",
   "pygments_lexer": "ipython3",
   "version": "3.8.5"
  }
 },
 "nbformat": 4,
 "nbformat_minor": 4
}
